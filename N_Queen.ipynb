{
  "nbformat": 4,
  "nbformat_minor": 0,
  "metadata": {
    "colab": {
      "provenance": [],
      "authorship_tag": "ABX9TyNTqVdJ24+OBFpiNl9o0Un4",
      "include_colab_link": true
    },
    "kernelspec": {
      "name": "python3",
      "display_name": "Python 3"
    },
    "language_info": {
      "name": "python"
    }
  },
  "cells": [
    {
      "cell_type": "markdown",
      "metadata": {
        "id": "view-in-github",
        "colab_type": "text"
      },
      "source": [
        "<a href=\"https://colab.research.google.com/github/Mahmoudkheradmandi/N-Queen--Genetic-Alg/blob/main/N_Queen.ipynb\" target=\"_parent\"><img src=\"https://colab.research.google.com/assets/colab-badge.svg\" alt=\"Open In Colab\"/></a>"
      ]
    },
    {
      "cell_type": "code",
      "execution_count": null,
      "metadata": {
        "id": "ALnnWDd7tEsH"
      },
      "outputs": [],
      "source": [
        "from random import randint as rnd\n",
        "from random import shuffle\n",
        "import matplotlib.pyplot as plt"
      ]
    },
    {
      "cell_type": "code",
      "source": [
        "# Setting Parameters\n",
        "N = 10\n",
        "PS = 200 # Population Size\n",
        "MR = 0.8 # Mutation Rate\n",
        "EPOCH = 200"
      ],
      "metadata": {
        "id": "xXfiC7IltHxI"
      },
      "execution_count": null,
      "outputs": []
    },
    {
      "cell_type": "code",
      "source": [
        "# Initial population Function\n",
        "def init_population(n , ps):\n",
        "    population_list = []\n",
        "    for i in range(ps):\n",
        "        member = []\n",
        "        for j in range(n):\n",
        "           member.append(rnd(0 , n-1))\n",
        "\n",
        "        population_list.append(member + [None]) # The last column [None] is our scores section\n",
        "    return population_list"
      ],
      "metadata": {
        "id": "qk3zif86tQkO"
      },
      "execution_count": null,
      "outputs": []
    },
    {
      "cell_type": "code",
      "source": [
        "# Cross_Over Function\n",
        "def cross_over(population_list , n , ps):\n",
        "    for i in range(0 , ps , 2):\n",
        "    # We produce 2 children from each family\n",
        "        child1 = population_list[i][:n//2]+population_list[i+1][n//2:n]+ [None] # The last column [None] is our scores section\n",
        "        child2 = population_list[i+1][:n//2]+population_list[i][n//2:n]+ [None] # The last column [None] is our scores section\n",
        "        population_list.append(child1)\n",
        "        population_list.append(child2)\n",
        "    return population_list"
      ],
      "metadata": {
        "id": "92ZDrEgjtSEU"
      },
      "execution_count": null,
      "outputs": []
    },
    {
      "cell_type": "code",
      "source": [
        "# Mutation Function\n",
        "def mutation(population_list , n , ps , mr):\n",
        "    # In this case, the children are selected randomly\n",
        "    choosen_ones = list(range(ps , ps*2)) # Inside the main list, we find the children section and add it to the new list\n",
        "    shuffle(choosen_ones)\n",
        "    choosen_ones = choosen_ones[:int(ps*mr)]\n",
        "    for i in choosen_ones:\n",
        "        cell = rnd(0 , n-1)\n",
        "        val = rnd(0 , n-1)\n",
        "        population_list[i][cell] = val\n",
        "    return population_list"
      ],
      "metadata": {
        "id": "Uhtm-kWXtTnr"
      },
      "execution_count": null,
      "outputs": []
    },
    {
      "cell_type": "code",
      "source": [
        "# Fitness Function\n",
        "def fitness(population_list , n):\n",
        "    length = len(population_list)\n",
        "    for i in range(length):\n",
        "        rate = 0\n",
        "        for j in range(n):\n",
        "            for k in range(j+1 , n):\n",
        "                # Column\n",
        "                if population_list[i][j] == population_list[i][k]:\n",
        "                    rate+=1\n",
        "                # diogonal\n",
        "                if abs(j-k) == abs(population_list[i][j] - population_list[i][k]):\n",
        "                    rate+=1\n",
        "        population_list[i][-1] = rate\n",
        "    return population_list"
      ],
      "metadata": {
        "id": "67ikQ9uetVHd"
      },
      "execution_count": null,
      "outputs": []
    },
    {
      "cell_type": "code",
      "source": [
        "# Presentation Function\n",
        "def show(solution , n):\n",
        "    plt.figure(figsize=(5,5))\n",
        "    for i in range(n+1):\n",
        "        plt.plot([0,n*2],[i*2,i*2])\n",
        "        plt.plot([i*2,i*2],[0,n*2])\n",
        "    for i in range(n):\n",
        "      plt.scatter([i*2+1] , [solution[i]*2+1])\n",
        "    plt.show()"
      ],
      "metadata": {
        "id": "VVZct3_NtWjT"
      },
      "execution_count": null,
      "outputs": []
    },
    {
      "cell_type": "code",
      "source": [
        "# Main :\n",
        "# Primary population production\n",
        "\n",
        "current_population = init_population(N , PS)\n",
        "current_population = fitness(current_population , N)\n",
        "current_population = sorted(current_population , key=lambda x:x[-1])\n",
        "if current_population[0][-1] == 0 :\n",
        "    print('Solution is found in the initial population stage' , current_population[0])\n",
        "    show(current_population[0] , N)\n",
        "else :\n",
        "    for i in range(EPOCH):\n",
        "        current_population = cross_over(current_population , N , PS)\n",
        "        current_population = mutation(current_population , N , PS , MR)\n",
        "        current_population = fitness(current_population , N)\n",
        "        current_population = sorted(current_population , key=lambda x:x[-1])\n",
        "        current_population = current_population[:PS] # It only displays the parent section\n",
        "        if current_population[0][-1] == 0 :\n",
        "            print (i+1 ,'Solution Found' , current_population[0])\n",
        "            show(current_population[0],N)\n",
        "            break\n",
        "        else :\n",
        "            print (i+1 ,'Best solution so far' , current_population[0])\n",
        "    else:\n",
        "        print ('Sorry , we could not find you a soluution')"
      ],
      "metadata": {
        "colab": {
          "base_uri": "https://localhost:8080/",
          "height": 1000
        },
        "id": "dFXfrcKwtYFE",
        "outputId": "9feb7138-2ef6-463a-ed19-ace8e4898b35"
      },
      "execution_count": null,
      "outputs": [
        {
          "output_type": "stream",
          "name": "stdout",
          "text": [
            "1 Best solution so far [5, 1, 4, 7, 0, 6, 3, 6, 0, 3, 3]\n",
            "2 Best solution so far [5, 1, 4, 7, 0, 6, 3, 6, 0, 3, 3]\n",
            "3 Best solution so far [5, 1, 4, 7, 0, 6, 3, 6, 0, 3, 3]\n",
            "4 Best solution so far [5, 1, 4, 7, 0, 6, 3, 6, 0, 3, 3]\n",
            "5 Best solution so far [5, 1, 4, 7, 0, 6, 3, 6, 0, 3, 3]\n",
            "6 Best solution so far [5, 1, 4, 7, 0, 3, 9, 2, 8, 8, 2]\n",
            "7 Best solution so far [5, 1, 4, 7, 0, 3, 9, 6, 8, 2, 1]\n",
            "8 Best solution so far [5, 1, 4, 7, 0, 3, 9, 6, 8, 2, 1]\n",
            "9 Best solution so far [5, 1, 4, 7, 0, 3, 9, 6, 8, 2, 1]\n",
            "10 Best solution so far [5, 1, 4, 7, 0, 3, 9, 6, 8, 2, 1]\n",
            "11 Best solution so far [5, 1, 4, 7, 0, 3, 9, 6, 8, 2, 1]\n",
            "12 Best solution so far [5, 1, 4, 7, 0, 3, 9, 6, 8, 2, 1]\n",
            "13 Best solution so far [5, 1, 4, 7, 0, 3, 9, 6, 8, 2, 1]\n",
            "14 Best solution so far [5, 1, 4, 7, 0, 3, 9, 6, 8, 2, 1]\n",
            "15 Best solution so far [5, 1, 4, 7, 0, 3, 9, 6, 8, 2, 1]\n",
            "16 Best solution so far [5, 1, 4, 7, 0, 3, 9, 6, 8, 2, 1]\n",
            "17 Best solution so far [5, 1, 4, 7, 0, 3, 9, 6, 8, 2, 1]\n",
            "18 Best solution so far [5, 1, 4, 7, 0, 3, 9, 6, 8, 2, 1]\n",
            "19 Best solution so far [5, 1, 4, 7, 0, 3, 9, 6, 8, 2, 1]\n",
            "20 Best solution so far [5, 1, 4, 7, 0, 3, 9, 6, 8, 2, 1]\n",
            "21 Best solution so far [5, 1, 4, 7, 0, 3, 9, 6, 8, 2, 1]\n",
            "22 Best solution so far [5, 1, 4, 7, 0, 3, 9, 6, 8, 2, 1]\n",
            "23 Best solution so far [5, 1, 4, 7, 0, 3, 9, 6, 8, 2, 1]\n",
            "24 Best solution so far [5, 1, 4, 7, 0, 3, 9, 6, 8, 2, 1]\n",
            "25 Best solution so far [5, 1, 4, 7, 0, 3, 9, 6, 8, 2, 1]\n",
            "26 Best solution so far [5, 1, 4, 7, 0, 3, 9, 6, 8, 2, 1]\n",
            "27 Best solution so far [5, 1, 4, 7, 0, 3, 9, 6, 8, 2, 1]\n",
            "28 Best solution so far [5, 1, 4, 7, 0, 3, 9, 6, 8, 2, 1]\n",
            "29 Best solution so far [5, 1, 4, 7, 0, 3, 9, 6, 8, 2, 1]\n",
            "30 Best solution so far [5, 1, 4, 7, 0, 3, 9, 6, 8, 2, 1]\n",
            "31 Best solution so far [5, 1, 4, 7, 0, 3, 9, 6, 8, 2, 1]\n",
            "32 Best solution so far [5, 1, 4, 7, 0, 3, 9, 6, 8, 2, 1]\n",
            "33 Best solution so far [5, 1, 4, 7, 0, 3, 9, 6, 8, 2, 1]\n",
            "34 Solution Found [5, 8, 4, 7, 0, 3, 1, 6, 9, 2, 0]\n"
          ]
        },
        {
          "output_type": "display_data",
          "data": {
            "text/plain": [
              "<Figure size 500x500 with 1 Axes>"
            ],
            "image/png": "[encoded data removed]"
          },
          "metadata": {}
        }
      ]
    }
  ]
}